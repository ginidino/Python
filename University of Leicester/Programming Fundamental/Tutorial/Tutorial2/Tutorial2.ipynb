{
 "cells": [
  {
   "cell_type": "markdown",
   "id": "89553e05",
   "metadata": {},
   "source": [
    "Question1"
   ]
  },
  {
   "cell_type": "code",
   "execution_count": 1,
   "id": "eb85f48e",
   "metadata": {},
   "outputs": [
    {
     "name": "stdout",
     "output_type": "stream",
     "text": [
      "Enter the frist number: 6\n",
      "Enter the second number: 3\n",
      "The sum 9 of 6 and 3 is not divisible by 3 and 7\n"
     ]
    }
   ],
   "source": [
    "num1 = int(input('Enter the frist number: '))\n",
    "num2 = int(input('Enter the second number: '))\n",
    "sum = num1 + num2\n",
    "if sum % 3 == 0 and sum % 7 == 0:\n",
    "    print('The sum %d of %d and %d is divisible by 3 and 7' % (sum, num1, num2))\n",
    "else:\n",
    "    print('The sum %d of %d and %d is not divisible by 3 and 7' % (sum, num1, num2))"
   ]
  },
  {
   "cell_type": "markdown",
   "id": "98498175",
   "metadata": {},
   "source": [
    "Question2"
   ]
  },
  {
   "cell_type": "code",
   "execution_count": null,
   "id": "5f21d49d",
   "metadata": {},
   "outputs": [],
   "source": [
    "import math\n",
    "\n",
    "degree = float(input('Enter the angle in degrees: '))\n",
    "radians = degree * (math.pi / 180)\n",
    "print(radians)"
   ]
  },
  {
   "cell_type": "markdown",
   "id": "a09c4076",
   "metadata": {},
   "source": [
    "Question3"
   ]
  },
  {
   "cell_type": "code",
   "execution_count": null,
   "id": "a7d80f54",
   "metadata": {},
   "outputs": [],
   "source": [
    "num = int(input('Enter the number: '))\n",
    "if num > 0:\n",
    "    print('%d is positive number.' % num)\n",
    "elif num < 0:\n",
    "    print('%d is negative number.' % num)\n",
    "else:\n",
    "    print('%d is neither positive nor negative.' % num)"
   ]
  }
 ],
 "metadata": {
  "kernelspec": {
   "display_name": "Python 3 (ipykernel)",
   "language": "python",
   "name": "python3"
  },
  "language_info": {
   "codemirror_mode": {
    "name": "ipython",
    "version": 3
   },
   "file_extension": ".py",
   "mimetype": "text/x-python",
   "name": "python",
   "nbconvert_exporter": "python",
   "pygments_lexer": "ipython3",
   "version": "3.9.13"
  }
 },
 "nbformat": 4,
 "nbformat_minor": 5
}
