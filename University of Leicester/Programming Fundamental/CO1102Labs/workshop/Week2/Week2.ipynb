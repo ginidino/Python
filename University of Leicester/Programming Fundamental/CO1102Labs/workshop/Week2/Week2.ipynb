{
 "cells": [
  {
   "cell_type": "markdown",
   "id": "90655562",
   "metadata": {},
   "source": [
    "Task1"
   ]
  },
  {
   "cell_type": "code",
   "execution_count": 1,
   "id": "d0e82919",
   "metadata": {},
   "outputs": [
    {
     "name": "stdout",
     "output_type": "stream",
     "text": [
      "0.8451377878081776\n"
     ]
    }
   ],
   "source": [
    "import random\n",
    "num = random.random()\n",
    "print(num)"
   ]
  },
  {
   "cell_type": "markdown",
   "id": "d50fd697",
   "metadata": {},
   "source": [
    "Task2"
   ]
  },
  {
   "cell_type": "code",
   "execution_count": 4,
   "id": "ce2598c7",
   "metadata": {},
   "outputs": [
    {
     "name": "stdout",
     "output_type": "stream",
     "text": [
      "0.7640486090089101\n",
      "Head\n"
     ]
    }
   ],
   "source": [
    "import random\n",
    "\n",
    "flip = random.random()\n",
    "print(flip)\n",
    "\n",
    "if flip > 0.5:\n",
    "    print('Head')\n",
    "else:\n",
    "    print('Tail')"
   ]
  },
  {
   "cell_type": "markdown",
   "id": "e4b8e69d",
   "metadata": {},
   "source": [
    "Task3"
   ]
  },
  {
   "cell_type": "code",
   "execution_count": 6,
   "id": "6abef876",
   "metadata": {},
   "outputs": [
    {
     "name": "stdout",
     "output_type": "stream",
     "text": [
      "Enter probability of the flip : 0.6\n",
      "0.47493865204189134\n",
      "Head\n"
     ]
    }
   ],
   "source": [
    "import random\n",
    "\n",
    "p = float(input('Enter probability of the flip : '))\n",
    "flip = random.random()\n",
    "print(flip)\n",
    "\n",
    "if p >= flip:\n",
    "    print('Head')\n",
    "else:\n",
    "    print('Tail')"
   ]
  },
  {
   "cell_type": "markdown",
   "id": "362c197d",
   "metadata": {},
   "source": [
    "Task4"
   ]
  },
  {
   "cell_type": "code",
   "execution_count": 11,
   "id": "d8cdb93e",
   "metadata": {},
   "outputs": [
    {
     "name": "stdout",
     "output_type": "stream",
     "text": [
      "Enter the number: 45\n",
      "too small\n"
     ]
    }
   ],
   "source": [
    "import random\n",
    "ranNum = random.randint(1, 100)\n",
    "\n",
    "num = int(input('Enter the number: '))\n",
    "\n",
    "if num > ranNum:\n",
    "    print('too big')\n",
    "elif num < ranNum:\n",
    "    print('too small')\n",
    "else:\n",
    "    print('correct')"
   ]
  },
  {
   "cell_type": "markdown",
   "id": "27fc5fb6",
   "metadata": {},
   "source": [
    "Task5"
   ]
  },
  {
   "cell_type": "code",
   "execution_count": 10,
   "id": "97fbcbc5",
   "metadata": {},
   "outputs": [
    {
     "name": "stdout",
     "output_type": "stream",
     "text": [
      "Enter your grade: 85\n",
      "A\n"
     ]
    }
   ],
   "source": [
    "grade = int(input('Enter your grade: '))\n",
    "if grade < 0 or grade > 100:\n",
    "    print('invalid output')\n",
    "elif grade >= 80:\n",
    "    print('A')\n",
    "elif 70 <= grade < 80:\n",
    "    print('B')\n",
    "elif 60 <= grade < 70:\n",
    "    print('C')\n",
    "elif 50 <= grade < 60:\n",
    "    print('D')\n",
    "else:\n",
    "    print('F')"
   ]
  },
  {
   "cell_type": "markdown",
   "id": "e17fb4ac",
   "metadata": {},
   "source": [
    "Task6"
   ]
  },
  {
   "cell_type": "code",
   "execution_count": 15,
   "id": "07e59955",
   "metadata": {},
   "outputs": [
    {
     "name": "stdout",
     "output_type": "stream",
     "text": [
      "Enter an even number between 10 to 50: 43\n",
      "42\n",
      "The sum of the number you have entered, 45 and the generated number, 42 is: 85\n"
     ]
    }
   ],
   "source": [
    "import random\n",
    "\n",
    "num1 = int(input('Enter an even number between 10 to 50: '))\n",
    "\n",
    "if num < 10 or num > 50:\n",
    "    print('invalid output')\n",
    "else:\n",
    "    ranNum = random.randint(10, 100)\n",
    "    print(ranNum)\n",
    "    \n",
    "    result = 0\n",
    "    if ranNum % 7 == 0 and num1 >= ranNum:\n",
    "        result = num1 + ranNum\n",
    "        print(\"The sum of the number you have entered, %d and the generated number, %d is: %d\" % (num, ranNum, result))\n",
    "    else:\n",
    "        result = num1 * ranNum\n",
    "        print(\"The product of the number you have entered, %d and the generated number, %d is: %d\" % (num, ranNum, result))"
   ]
  }
 ],
 "metadata": {
  "kernelspec": {
   "display_name": "Python 3 (ipykernel)",
   "language": "python",
   "name": "python3"
  },
  "language_info": {
   "codemirror_mode": {
    "name": "ipython",
    "version": 3
   },
   "file_extension": ".py",
   "mimetype": "text/x-python",
   "name": "python",
   "nbconvert_exporter": "python",
   "pygments_lexer": "ipython3",
   "version": "3.9.13"
  }
 },
 "nbformat": 4,
 "nbformat_minor": 5
}
