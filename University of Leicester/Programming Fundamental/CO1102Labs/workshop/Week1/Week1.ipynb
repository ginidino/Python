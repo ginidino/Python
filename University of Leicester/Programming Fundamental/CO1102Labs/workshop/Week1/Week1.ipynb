{
 "cells": [
  {
   "cell_type": "markdown",
   "id": "d3dd76ae",
   "metadata": {},
   "source": [
    "Task1"
   ]
  },
  {
   "cell_type": "code",
   "execution_count": 15,
   "id": "d4e5a842",
   "metadata": {},
   "outputs": [
    {
     "name": "stdout",
     "output_type": "stream",
     "text": [
      "Enter the first number: 8\n",
      "Enter the second number: 4\n",
      "x + y = 12\n",
      "x * y = 32\n",
      "x - y = 4\n",
      "x / y = 2.0\n",
      "x // y = 2\n",
      "x % y = 0\n",
      "x ** y = 4096\n"
     ]
    }
   ],
   "source": [
    "x = int(input(\"Enter the first number: \"))\n",
    "y = int(input(\"Enter the second number: \"))\n",
    "\n",
    "def plus(x, y):\n",
    "    return x + y\n",
    "\n",
    "def mult(x, y):\n",
    "    return x * y\n",
    "\n",
    "def sub(x, y):\n",
    "    return x - y\n",
    "\n",
    "def div(x, y):\n",
    "    return x / y\n",
    "\n",
    "def quo(x, y):\n",
    "    return x // y\n",
    "\n",
    "def mod(x, y):\n",
    "    return x % y\n",
    "\n",
    "def pow(x, y):\n",
    "    return x ** y\n",
    "\n",
    "print(\"x + y = %d\" % plus(x, y))\n",
    "print(\"x * y = %d\" % mult(x, y))\n",
    "print(\"x - y = %d\" % sub(x, y))\n",
    "print(\"x / y =\", div(x, y))\n",
    "print(\"x // y =\", quo(x, y))\n",
    "print(\"x % y =\", mod(x, y))\n",
    "print(\"x ** y =\", pow(x, y))"
   ]
  },
  {
   "cell_type": "markdown",
   "id": "f3865486",
   "metadata": {},
   "source": [
    "Task2"
   ]
  },
  {
   "cell_type": "code",
   "execution_count": 4,
   "id": "889edd13",
   "metadata": {},
   "outputs": [
    {
     "name": "stdout",
     "output_type": "stream",
     "text": [
      "Input: 5\n",
      "Input: 7\n",
      "12\n"
     ]
    }
   ],
   "source": [
    "input1 = int(input(\"Input: \"))\n",
    "input2 = int(input(\"Input: \"))\n",
    "\n",
    "result = input1 + input2\n",
    "print(result)"
   ]
  },
  {
   "cell_type": "code",
   "execution_count": 6,
   "id": "1adb92f6",
   "metadata": {},
   "outputs": [
    {
     "name": "stdout",
     "output_type": "stream",
     "text": [
      "Input: 3\n",
      "Input: Python\n",
      "PythonPythonPython\n"
     ]
    }
   ],
   "source": [
    "input1 = int(input(\"Input: \"))\n",
    "input2 = input(\"Input: \")\n",
    "\n",
    "result = input1 * input2\n",
    "print(result)"
   ]
  },
  {
   "cell_type": "code",
   "execution_count": 7,
   "id": "ef5ecb23",
   "metadata": {},
   "outputs": [
    {
     "name": "stdout",
     "output_type": "stream",
     "text": [
      "Input: 7\n",
      "Input: programming\n"
     ]
    },
    {
     "ename": "TypeError",
     "evalue": "unsupported operand type(s) for +: 'int' and 'str'",
     "output_type": "error",
     "traceback": [
      "\u001b[0;31m---------------------------------------------------------------------------\u001b[0m",
      "\u001b[0;31mTypeError\u001b[0m                                 Traceback (most recent call last)",
      "Cell \u001b[0;32mIn [7], line 4\u001b[0m\n\u001b[1;32m      1\u001b[0m input1 \u001b[38;5;241m=\u001b[39m \u001b[38;5;28mint\u001b[39m(\u001b[38;5;28minput\u001b[39m(\u001b[38;5;124m\"\u001b[39m\u001b[38;5;124mInput: \u001b[39m\u001b[38;5;124m\"\u001b[39m))\n\u001b[1;32m      2\u001b[0m input2 \u001b[38;5;241m=\u001b[39m \u001b[38;5;28minput\u001b[39m(\u001b[38;5;124m\"\u001b[39m\u001b[38;5;124mInput: \u001b[39m\u001b[38;5;124m\"\u001b[39m)\n\u001b[0;32m----> 4\u001b[0m result \u001b[38;5;241m=\u001b[39m \u001b[43minput1\u001b[49m\u001b[43m \u001b[49m\u001b[38;5;241;43m+\u001b[39;49m\u001b[43m \u001b[49m\u001b[43minput2\u001b[49m\n\u001b[1;32m      5\u001b[0m \u001b[38;5;28mprint\u001b[39m(result)\n",
      "\u001b[0;31mTypeError\u001b[0m: unsupported operand type(s) for +: 'int' and 'str'"
     ]
    }
   ],
   "source": [
    "input1 = int(input(\"Input: \"))\n",
    "input2 = input(\"Input: \")\n",
    "\n",
    "result = input1 + input2\n",
    "print(result)\n",
    "\n",
    "#This is error because input1 is int and input2 is string\n",
    "#+ mark can only be connected between strings"
   ]
  },
  {
   "cell_type": "code",
   "execution_count": 8,
   "id": "4aaf62d2",
   "metadata": {},
   "outputs": [
    {
     "name": "stdout",
     "output_type": "stream",
     "text": [
      "Input: 7\n",
      "Input: programming\n",
      "7programming\n"
     ]
    }
   ],
   "source": [
    "input1 = input(\"Input: \")\n",
    "input2 = input(\"Input: \")\n",
    "\n",
    "result = input1 + input2\n",
    "print(result)"
   ]
  },
  {
   "cell_type": "markdown",
   "id": "9db1d382",
   "metadata": {},
   "source": [
    "Task3"
   ]
  },
  {
   "cell_type": "code",
   "execution_count": 9,
   "id": "40e6286a",
   "metadata": {},
   "outputs": [
    {
     "name": "stdout",
     "output_type": "stream",
     "text": [
      "Give the temperature in Fahrenheit? 100\n",
      "The conversion of 100 degrees Fahrenheit is  37.77777777777778 degrees Celsius\n"
     ]
    }
   ],
   "source": [
    "fahrenheit = int(input('Give the temperature in Fahrenheit? '))\n",
    "celsius = (fahrenheit - 32.0) * 5/9\n",
    "print('The conversion of',fahrenheit, 'degrees Fahrenheit is ', celsius, 'degrees Celsius')"
   ]
  },
  {
   "cell_type": "markdown",
   "id": "0644354c",
   "metadata": {},
   "source": [
    "Task4"
   ]
  },
  {
   "cell_type": "code",
   "execution_count": 13,
   "id": "062321a3",
   "metadata": {},
   "outputs": [
    {
     "name": "stdout",
     "output_type": "stream",
     "text": [
      "Enter your name: injae Lee\n",
      "Your name injae Lee length is 9\n",
      "There is  5 in you name\n",
      "a : 1 e : 3 i : 1 o : 0 u : 0\n"
     ]
    }
   ],
   "source": [
    "name = input(\"Enter your name: \")\n",
    "vowel = 0\n",
    "a = name.count('a')\n",
    "e = name.count('e')\n",
    "i = name.count('i')\n",
    "o = name.count('o')\n",
    "u = name.count('u')\n",
    "\n",
    "vowel = a + e + i + o + u\n",
    "name_len = len(name)\n",
    "print(\"Your name\", name,\"length is\", name_len)\n",
    "print(\"There is \", vowel, \"in you name\" + \"\\n\" + \"a :\", a, \"e :\", e, \"i :\", i, \"o :\", o, \"u :\", u)"
   ]
  }
 ],
 "metadata": {
  "kernelspec": {
   "display_name": "Python 3 (ipykernel)",
   "language": "python",
   "name": "python3"
  },
  "language_info": {
   "codemirror_mode": {
    "name": "ipython",
    "version": 3
   },
   "file_extension": ".py",
   "mimetype": "text/x-python",
   "name": "python",
   "nbconvert_exporter": "python",
   "pygments_lexer": "ipython3",
   "version": "3.9.13"
  }
 },
 "nbformat": 4,
 "nbformat_minor": 5
}
